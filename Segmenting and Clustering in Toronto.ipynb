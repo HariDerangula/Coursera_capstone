
In [1]:

# Start by creating a new Notebook for this assignment.
# setup import
import pandas as pd 
import wikipedia as wp
from bs4 import BeautifulSoup

# Use the Notebook to build the code to scrape the following Wikipedia page, https://en.wikipedia.org/wiki/List_of_postal_codes_of_Canada:_M, in order to obtain the data that is in the table of postal codes and to transform the data into a pandas dataframe
# enter the h1 element in wp.page(h1)
html = wp.page("List of postal codes of Canada: M").html().encode("UTF-8")

# determine the index of your table
df = pd.read_html(html, header = 0)[0]

# Only process the cells that have an assigned borough. Ignore cells with a borough that is Not assigned.
df = df[df.Borough != 'Not assigned']

# More than one neighborhood can exist in one postal code area. For example, in the table on the Wikipedia page, you will notice that M5A is listed twice and has two neighborhoods: Harbourfront and Regent Park. These two rows will be combined into one row with the neighborhoods separated with a comma as shown in row 11 in the above table.
df = df.groupby(['Postcode', 'Borough'])['Neighbourhood'].apply(list).apply(lambda x:', '.join(x)).to_frame().reset_index()

# If a cell has a borough but a Not assigned neighborhood, then the neighborhood will be the same as the borough. So for the 9th cell in the table on the Wikipedia page, the value of the Borough and the Neighborhood columns will be Queen's Park.
for index, row in df.iterrows():
    if row['Neighbourhood'] == 'Not assigned':
        row['Neighbourhood'] = row['Borough']

# Clean your Notebook and add Markdown cells to explain your work and any assumptions you are making.
df

Out[1]:
	Postcode 	Borough 	Neighbourhood
0 	M1B 	Scarborough 	Rouge, Malvern
1 	M1C 	Scarborough 	Highland Creek, Rouge Hill, Port Union
2 	M1E 	Scarborough 	Guildwood, Morningside, West Hill
3 	M1G 	Scarborough 	Woburn
4 	M1H 	Scarborough 	Cedarbrae
5 	M1J 	Scarborough 	Scarborough Village
6 	M1K 	Scarborough 	East Birchmount Park, Ionview, Kennedy Park
7 	M1L 	Scarborough 	Clairlea, Golden Mile, Oakridge
8 	M1M 	Scarborough 	Cliffcrest, Cliffside, Scarborough Village West
9 	M1N 	Scarborough 	Birch Cliff, Cliffside West
10 	M1P 	Scarborough 	Dorset Park, Scarborough Town Centre, Wexford ...
11 	M1R 	Scarborough 	Maryvale, Wexford
12 	M1S 	Scarborough 	Agincourt
13 	M1T 	Scarborough 	Clarks Corners, Sullivan, Tam O'Shanter
14 	M1V 	Scarborough 	Agincourt North, L'Amoreaux East, Milliken, St...
15 	M1W 	Scarborough 	L'Amoreaux West, Steeles West
16 	M1X 	Scarborough 	Upper Rouge
17 	M2H 	North York 	Hillcrest Village
18 	M2J 	North York 	Fairview, Henry Farm, Oriole
19 	M2K 	North York 	Bayview Village
20 	M2L 	North York 	Silver Hills, York Mills
21 	M2M 	North York 	Newtonbrook, Willowdale
22 	M2N 	North York 	Willowdale South
23 	M2P 	North York 	York Mills West
24 	M2R 	North York 	Willowdale West
25 	M3A 	North York 	Parkwoods
26 	M3B 	North York 	Don Mills North
27 	M3C 	North York 	Flemingdon Park, Don Mills South
28 	M3H 	North York 	Bathurst Manor, Downsview North, Wilson Heights
29 	M3J 	North York 	Northwood Park, York University
... 	... 	... 	...
73 	M6C 	York 	Humewood-Cedarvale
74 	M6E 	York 	Caledonia-Fairbanks
75 	M6G 	Downtown Toronto 	Christie
76 	M6H 	West Toronto 	Dovercourt Village, Dufferin
77 	M6J 	West Toronto 	Little Portugal, Trinity
78 	M6K 	West Toronto 	Brockton, Exhibition Place, Parkdale Village
79 	M6L 	North York 	Maple Leaf Park, North Park, Upwood Park
80 	M6M 	York 	Del Ray, Keelesdale, Mount Dennis, Silverthorn
81 	M6N 	York 	The Junction North, Runnymede
82 	M6P 	West Toronto 	High Park, The Junction South
83 	M6R 	West Toronto 	Parkdale, Roncesvalles
84 	M6S 	West Toronto 	Runnymede, Swansea
85 	M7A 	Queen's Park 	Queen's Park
86 	M7R 	Mississauga 	Canada Post Gateway Processing Centre
87 	M7Y 	East Toronto 	Business Reply Mail Processing Centre 969 Eastern
88 	M8V 	Etobicoke 	Humber Bay Shores, Mimico South, New Toronto
89 	M8W 	Etobicoke 	Alderwood, Long Branch
90 	M8X 	Etobicoke 	The Kingsway, Montgomery Road, Old Mill North
91 	M8Y 	Etobicoke 	Humber Bay, King's Mill Park, Kingsway Park So...
92 	M8Z 	Etobicoke 	Kingsway Park South West, Mimico NW, The Queen...
93 	M9A 	Etobicoke 	Islington Avenue
94 	M9B 	Etobicoke 	Cloverdale, Islington, Martin Grove, Princess ...
95 	M9C 	Etobicoke 	Bloordale Gardens, Eringate, Markland Wood, Ol...
96 	M9L 	North York 	Humber Summit
97 	M9M 	North York 	Emery, Humberlea
98 	M9N 	York 	Weston
99 	M9P 	Etobicoke 	Westmount
100 	M9R 	Etobicoke 	Kingsview Village, Martin Grove Gardens, Richv...
101 	M9V 	Etobicoke 	Albion Gardens, Beaumond Heights, Humbergate, ...
102 	M9W 	Etobicoke 	Northwest

103 rows × 3 columns
In [2]:

# In the last cell of your notebook, use the .shape method to print the number of rows of your dataframe.
df.shape

Out[2]:

(103, 3)

